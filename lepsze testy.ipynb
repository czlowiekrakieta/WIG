{
 "cells": [
  {
   "cell_type": "code",
   "execution_count": 1,
   "metadata": {
    "collapsed": false
   },
   "outputs": [],
   "source": [
    "import numpy as np\n",
    "import pandas as pd\n",
    "import os\n",
    "import tensorflow as tf\n",
    "import matplotlib.pyplot as plt\n",
    "import json\n",
    "import copy\n",
    "import scipy.stats as ss\n",
    "\n",
    "\n",
    "sc = \"/home/lukasz/Dokumenty/python gieldowy/WIG/\"\n",
    "\n",
    "pliki = os.listdir(sc + \"wszystko_3M\")\n",
    "\n",
    "df = pd.read_csv(sc + \"wszystko_3M/\" + pliki[0]).set_index(\"Unnamed: 0\").drop([\"ddRoznica\"], axis=1)\n",
    "\n",
    "wlasnosci = list(df)"
   ]
  },
  {
   "cell_type": "code",
   "execution_count": 15,
   "metadata": {
    "collapsed": false
   },
   "outputs": [],
   "source": [
    "wszystko = pd.DataFrame( columns = wlasnosci )\n",
    "klasy_all = []\n",
    "for plik in pliki:\n",
    "    \n",
    "    df = pd.read_csv(sc + \"wszystko_3M/\" + plik).set_index(\"Unnamed: 0\").drop(['ddRoznica'], axis=1)\n",
    "    klasy = list(df[\"ZKlasy\"])\n",
    "    df.drop([\"ZKlasy\"], axis=1, inplace=True)\n",
    "    \n",
    "    wszystko = pd.concat( [wszystko, df], axis=0)\n",
    "    klasy_all += klasy"
   ]
  },
  {
   "cell_type": "code",
   "execution_count": 24,
   "metadata": {
    "collapsed": false
   },
   "outputs": [],
   "source": [
    "wszystko_ = pd.concat( [wszystko, pd.DataFrame(data = klasy_all, index = wszystko.index)], axis=1)\n",
    "\n",
    "wszystko_.to_csv(sc + \"zagregowane/wszystkie_dane_3M.csv\")"
   ]
  },
  {
   "cell_type": "code",
   "execution_count": 4,
   "metadata": {
    "collapsed": true
   },
   "outputs": [],
   "source": [
    "wszystko = pd.read_csv(sc + \"zagregowane/wszystkie_dane_3M.csv\").set_index(\"Unnamed: 0\")"
   ]
  },
  {
   "cell_type": "code",
   "execution_count": 6,
   "metadata": {
    "collapsed": false
   },
   "outputs": [],
   "source": [
    "\n",
    "wszystko = wszystko.replace([np.inf, -np.inf], np.nan)"
   ]
  },
  {
   "cell_type": "code",
   "execution_count": 10,
   "metadata": {
    "collapsed": true
   },
   "outputs": [],
   "source": [
    "klasy_all = list(wszystko['0.1'])\n",
    "wszystko.drop(['0.1'], axis=1, inplace=True)"
   ]
  },
  {
   "cell_type": "code",
   "execution_count": 21,
   "metadata": {
    "collapsed": false
   },
   "outputs": [],
   "source": [
    "klasy_all = np.asarray(klasy_all)\n",
    "\n",
    "ind_jedynek = np.where(klasy_all==1)[0]\n",
    "ind_zer = np.where(klasy_all==0)[0]\n",
    "\n",
    "DC = []\n",
    "ANOVA = []\n",
    "TT = []\n",
    "\n",
    "for wlasnosc in wlasnosci:\n",
    "    \n",
    "    Z_j = copy.copy(wszystko[wlasnosc].iloc[ind_jedynek])\n",
    "    Z_z = copy.copy(wszystko[wlasnosc].iloc[ind_zer])\n",
    "    \n",
    "    hjedynek = np.sum( ~np.isnan(Z_j) )\n",
    "    hzer = np.sum( ~np.isnan(Z_z) )\n",
    "    \n",
    "    D = np.absolute( np.nanmean(Z_j) - np.nanmean(Z_z) )/np.sqrt( (hjedynek*np.nanvar(Z_j, ddof=1)+\n",
    "                                                                   hzer*np.nanvar(Z_z, ddof=1))/(hjedynek+hzer-2) )\n",
    "    \n",
    "    DC.append(D)\n",
    "    \n",
    "    Z_j.dropna(axis=0, inplace=True)\n",
    "    Z_z.dropna(axis=0, inplace=True)\n",
    "    \n",
    "    A = ss.f_oneway( Z_j, Z_z)[1]\n",
    "    ANOVA.append(A)\n",
    "    \n",
    "    T = ss.ttest_ind( Z_j, Z_z)[1]\n",
    "    \n",
    "    TT.append(T)\n",
    "    \n",
    "    "
   ]
  },
  {
   "cell_type": "code",
   "execution_count": 33,
   "metadata": {
    "collapsed": false
   },
   "outputs": [],
   "source": [
    "wl_z_danymi = pd.DataFrame( index = wlasnosci, data = {\"T-test\": TT, \"ANOVA\": ANOVA})"
   ]
  },
  {
   "cell_type": "code",
   "execution_count": 26,
   "metadata": {
    "collapsed": false
   },
   "outputs": [
    {
     "data": {
      "text/html": [
       "<div>\n",
       "<table border=\"1\" class=\"dataframe\">\n",
       "  <thead>\n",
       "    <tr style=\"text-align: right;\">\n",
       "      <th></th>\n",
       "      <th>ANOVA</th>\n",
       "      <th>T-test</th>\n",
       "    </tr>\n",
       "  </thead>\n",
       "  <tbody>\n",
       "    <tr>\n",
       "      <th>C0</th>\n",
       "      <td>0.024672</td>\n",
       "      <td>0.024672</td>\n",
       "    </tr>\n",
       "    <tr>\n",
       "      <th>C1</th>\n",
       "      <td>0.034503</td>\n",
       "      <td>0.034503</td>\n",
       "    </tr>\n",
       "    <tr>\n",
       "      <th>C2</th>\n",
       "      <td>0.046368</td>\n",
       "      <td>0.046368</td>\n",
       "    </tr>\n",
       "    <tr>\n",
       "      <th>C6</th>\n",
       "      <td>0.033313</td>\n",
       "      <td>0.033313</td>\n",
       "    </tr>\n",
       "    <tr>\n",
       "      <th>C7</th>\n",
       "      <td>0.036185</td>\n",
       "      <td>0.036185</td>\n",
       "    </tr>\n",
       "    <tr>\n",
       "      <th>C8</th>\n",
       "      <td>0.040796</td>\n",
       "      <td>0.040796</td>\n",
       "    </tr>\n",
       "    <tr>\n",
       "      <th>C39</th>\n",
       "      <td>0.041486</td>\n",
       "      <td>0.041486</td>\n",
       "    </tr>\n",
       "    <tr>\n",
       "      <th>C40</th>\n",
       "      <td>0.044866</td>\n",
       "      <td>0.044866</td>\n",
       "    </tr>\n",
       "    <tr>\n",
       "      <th>C41</th>\n",
       "      <td>0.009656</td>\n",
       "      <td>0.009656</td>\n",
       "    </tr>\n",
       "    <tr>\n",
       "      <th>C42</th>\n",
       "      <td>0.007340</td>\n",
       "      <td>0.007340</td>\n",
       "    </tr>\n",
       "    <tr>\n",
       "      <th>C43</th>\n",
       "      <td>0.003652</td>\n",
       "      <td>0.003652</td>\n",
       "    </tr>\n",
       "    <tr>\n",
       "      <th>C44</th>\n",
       "      <td>0.036177</td>\n",
       "      <td>0.036177</td>\n",
       "    </tr>\n",
       "    <tr>\n",
       "      <th>C47</th>\n",
       "      <td>0.039941</td>\n",
       "      <td>0.039941</td>\n",
       "    </tr>\n",
       "    <tr>\n",
       "      <th>dtRA</th>\n",
       "      <td>0.029942</td>\n",
       "      <td>0.029942</td>\n",
       "    </tr>\n",
       "    <tr>\n",
       "      <th>dtZKW</th>\n",
       "      <td>0.023988</td>\n",
       "      <td>0.023988</td>\n",
       "    </tr>\n",
       "    <tr>\n",
       "      <th>d1</th>\n",
       "      <td>0.017285</td>\n",
       "      <td>0.017285</td>\n",
       "    </tr>\n",
       "    <tr>\n",
       "      <th>dd12</th>\n",
       "      <td>0.038465</td>\n",
       "      <td>0.038465</td>\n",
       "    </tr>\n",
       "    <tr>\n",
       "      <th>dt3</th>\n",
       "      <td>0.013830</td>\n",
       "      <td>0.013830</td>\n",
       "    </tr>\n",
       "    <tr>\n",
       "      <th>dt12</th>\n",
       "      <td>0.048561</td>\n",
       "      <td>0.048561</td>\n",
       "    </tr>\n",
       "  </tbody>\n",
       "</table>\n",
       "</div>"
      ],
      "text/plain": [
       "          ANOVA    T-test\n",
       "C0     0.024672  0.024672\n",
       "C1     0.034503  0.034503\n",
       "C2     0.046368  0.046368\n",
       "C6     0.033313  0.033313\n",
       "C7     0.036185  0.036185\n",
       "C8     0.040796  0.040796\n",
       "C39    0.041486  0.041486\n",
       "C40    0.044866  0.044866\n",
       "C41    0.009656  0.009656\n",
       "C42    0.007340  0.007340\n",
       "C43    0.003652  0.003652\n",
       "C44    0.036177  0.036177\n",
       "C47    0.039941  0.039941\n",
       "dtRA   0.029942  0.029942\n",
       "dtZKW  0.023988  0.023988\n",
       "d1     0.017285  0.017285\n",
       "dd12   0.038465  0.038465\n",
       "dt3    0.013830  0.013830\n",
       "dt12   0.048561  0.048561"
      ]
     },
     "execution_count": 26,
     "metadata": {},
     "output_type": "execute_result"
    }
   ],
   "source": [
    "wl_z_danymi[wl_z_danymi[\"T-test\"] < 0.05]# and wl_z_danymi[\"ANOVA\"] < 0.05]"
   ]
  },
  {
   "cell_type": "code",
   "execution_count": 27,
   "metadata": {
    "collapsed": false
   },
   "outputs": [
    {
     "data": {
      "text/html": [
       "<div>\n",
       "<table border=\"1\" class=\"dataframe\">\n",
       "  <thead>\n",
       "    <tr style=\"text-align: right;\">\n",
       "      <th></th>\n",
       "      <th>ANOVA</th>\n",
       "      <th>T-test</th>\n",
       "    </tr>\n",
       "  </thead>\n",
       "  <tbody>\n",
       "    <tr>\n",
       "      <th>C0</th>\n",
       "      <td>0.024672</td>\n",
       "      <td>0.024672</td>\n",
       "    </tr>\n",
       "    <tr>\n",
       "      <th>C1</th>\n",
       "      <td>0.034503</td>\n",
       "      <td>0.034503</td>\n",
       "    </tr>\n",
       "    <tr>\n",
       "      <th>C2</th>\n",
       "      <td>0.046368</td>\n",
       "      <td>0.046368</td>\n",
       "    </tr>\n",
       "    <tr>\n",
       "      <th>C6</th>\n",
       "      <td>0.033313</td>\n",
       "      <td>0.033313</td>\n",
       "    </tr>\n",
       "    <tr>\n",
       "      <th>C7</th>\n",
       "      <td>0.036185</td>\n",
       "      <td>0.036185</td>\n",
       "    </tr>\n",
       "    <tr>\n",
       "      <th>C8</th>\n",
       "      <td>0.040796</td>\n",
       "      <td>0.040796</td>\n",
       "    </tr>\n",
       "    <tr>\n",
       "      <th>C39</th>\n",
       "      <td>0.041486</td>\n",
       "      <td>0.041486</td>\n",
       "    </tr>\n",
       "    <tr>\n",
       "      <th>C40</th>\n",
       "      <td>0.044866</td>\n",
       "      <td>0.044866</td>\n",
       "    </tr>\n",
       "    <tr>\n",
       "      <th>C41</th>\n",
       "      <td>0.009656</td>\n",
       "      <td>0.009656</td>\n",
       "    </tr>\n",
       "    <tr>\n",
       "      <th>C42</th>\n",
       "      <td>0.007340</td>\n",
       "      <td>0.007340</td>\n",
       "    </tr>\n",
       "    <tr>\n",
       "      <th>C43</th>\n",
       "      <td>0.003652</td>\n",
       "      <td>0.003652</td>\n",
       "    </tr>\n",
       "    <tr>\n",
       "      <th>C44</th>\n",
       "      <td>0.036177</td>\n",
       "      <td>0.036177</td>\n",
       "    </tr>\n",
       "    <tr>\n",
       "      <th>C47</th>\n",
       "      <td>0.039941</td>\n",
       "      <td>0.039941</td>\n",
       "    </tr>\n",
       "    <tr>\n",
       "      <th>dtRA</th>\n",
       "      <td>0.029942</td>\n",
       "      <td>0.029942</td>\n",
       "    </tr>\n",
       "    <tr>\n",
       "      <th>dtZKW</th>\n",
       "      <td>0.023988</td>\n",
       "      <td>0.023988</td>\n",
       "    </tr>\n",
       "    <tr>\n",
       "      <th>d1</th>\n",
       "      <td>0.017285</td>\n",
       "      <td>0.017285</td>\n",
       "    </tr>\n",
       "    <tr>\n",
       "      <th>dd12</th>\n",
       "      <td>0.038465</td>\n",
       "      <td>0.038465</td>\n",
       "    </tr>\n",
       "    <tr>\n",
       "      <th>dt3</th>\n",
       "      <td>0.013830</td>\n",
       "      <td>0.013830</td>\n",
       "    </tr>\n",
       "    <tr>\n",
       "      <th>dt12</th>\n",
       "      <td>0.048561</td>\n",
       "      <td>0.048561</td>\n",
       "    </tr>\n",
       "  </tbody>\n",
       "</table>\n",
       "</div>"
      ],
      "text/plain": [
       "          ANOVA    T-test\n",
       "C0     0.024672  0.024672\n",
       "C1     0.034503  0.034503\n",
       "C2     0.046368  0.046368\n",
       "C6     0.033313  0.033313\n",
       "C7     0.036185  0.036185\n",
       "C8     0.040796  0.040796\n",
       "C39    0.041486  0.041486\n",
       "C40    0.044866  0.044866\n",
       "C41    0.009656  0.009656\n",
       "C42    0.007340  0.007340\n",
       "C43    0.003652  0.003652\n",
       "C44    0.036177  0.036177\n",
       "C47    0.039941  0.039941\n",
       "dtRA   0.029942  0.029942\n",
       "dtZKW  0.023988  0.023988\n",
       "d1     0.017285  0.017285\n",
       "dd12   0.038465  0.038465\n",
       "dt3    0.013830  0.013830\n",
       "dt12   0.048561  0.048561"
      ]
     },
     "execution_count": 27,
     "metadata": {},
     "output_type": "execute_result"
    }
   ],
   "source": [
    "wl_z_danymi[wl_z_danymi[\"ANOVA\"] < 0.05]"
   ]
  },
  {
   "cell_type": "code",
   "execution_count": 36,
   "metadata": {
    "collapsed": false
   },
   "outputs": [
    {
     "data": {
      "text/plain": [
       "True"
      ]
     },
     "execution_count": 36,
     "metadata": {},
     "output_type": "execute_result"
    }
   ],
   "source": [
    "np.allclose( ANOVA, TT)"
   ]
  },
  {
   "cell_type": "code",
   "execution_count": 41,
   "metadata": {
    "collapsed": false
   },
   "outputs": [
    {
     "data": {
      "text/plain": [
       "False"
      ]
     },
     "execution_count": 41,
     "metadata": {},
     "output_type": "execute_result"
    }
   ],
   "source": [
    "np.any( ANOVA == TT )"
   ]
  },
  {
   "cell_type": "code",
   "execution_count": 46,
   "metadata": {
    "collapsed": false
   },
   "outputs": [],
   "source": [
    "with open(sc + \"zagregowane/wlasnosci_po_anova.txt\", \"w\") as f:\n",
    "\n",
    "    json.dump( list( wl_z_danymi[ wl_z_danymi[\"ANOVA\"] < 0.05].index), f)"
   ]
  }
 ],
 "metadata": {
  "kernelspec": {
   "display_name": "Python 3",
   "language": "python",
   "name": "python3"
  },
  "language_info": {
   "codemirror_mode": {
    "name": "ipython",
    "version": 3
   },
   "file_extension": ".py",
   "mimetype": "text/x-python",
   "name": "python",
   "nbconvert_exporter": "python",
   "pygments_lexer": "ipython3",
   "version": "3.4.3"
  }
 },
 "nbformat": 4,
 "nbformat_minor": 0
}
